{
 "cells": [
  {
   "cell_type": "code",
   "execution_count": 19,
   "metadata": {
    "colab": {
     "base_uri": "https://localhost:8080/"
    },
    "id": "32ADhwU0Vgmv",
    "outputId": "2a4e86e5-504a-4a0b-a2ff-c709da94d81e"
   },
   "outputs": [
    {
     "name": "stdout",
     "output_type": "stream",
     "text": [
      "0-10_stock_info.csv  nasdaq_screener.csv  templates\n",
      "0-2_stock_info.csv   nasdaq_screener.xls  US-Stock-Symbols.csv\n",
      "0-3_stock_info.csv   nyse_list.csv\t  US-Stock-Symbols.xlsx\n",
      "0-5_stock_info.csv   nyse_list.xls\t  yfinance_API_client_end.py\n",
      "API_Calls.ipynb      README.md\n",
      "errors.log\t     static\n"
     ]
    }
   ],
   "source": [
    "!pip install yfinance\n",
    "!git clone https://github.com/emjasmine/TeamMoneyPenny-ML.git\n",
    "%cd TeamMoneyPenny-ML\n",
    "!pwd\n",
    "!python yfinance_API_client_end.py {start} {stop}\n",
    "!ls\n",
    "!git add .\n",
    "!git commit -m \"Adding new files from {start} to {stop}\"\n",
    "!git push"
   ]
  },
  {
   "cell_type": "markdown",
   "metadata": {
    "id": "BiTqAdc4WLCn"
   },
   "source": [
    "# New Section"
   ]
  }
 ],
 "metadata": {
  "colab": {
   "name": "Untitled0.ipynb",
   "provenance": []
  },
  "kernelspec": {
   "display_name": "Python 3",
   "language": "python",
   "name": "python3"
  },
  "language_info": {
   "codemirror_mode": {
    "name": "ipython",
    "version": 3
   },
   "file_extension": ".py",
   "mimetype": "text/x-python",
   "name": "python",
   "nbconvert_exporter": "python",
   "pygments_lexer": "ipython3",
   "version": "3.8.3"
  }
 },
 "nbformat": 4,
 "nbformat_minor": 4
}
