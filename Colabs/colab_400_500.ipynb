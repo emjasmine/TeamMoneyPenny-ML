{
  "nbformat": 4,
  "nbformat_minor": 0,
  "metadata": {
    "colab": {
      "name": "Untitled0.ipynb",
      "provenance": []
    },
    "kernelspec": {
      "name": "python3",
      "display_name": "Python 3"
    },
    "language_info": {
      "name": "python"
    }
  },
  "cells": [
    {
      "cell_type": "code",
      "metadata": {
        "colab": {
          "base_uri": "https://localhost:8080/"
        },
        "id": "32ADhwU0Vgmv",
        "outputId": "2a4e86e5-504a-4a0b-a2ff-c709da94d81e"
      },
      "source": [
        "!pip install yfinance",
        "!git clone https://github.com/emjasmine/TeamMoneyPenny-ML.git",
        "%cd TeamMoneyPenny-ML",
        "!pwd",
        "!python yfinance_API_client_end.py 400 500",
        "!ls",
        "!git add .",
        "!git commit -m "Adding new files from 400 to 500"",
        "!git push"
      ],
      "execution_count": 19,
      "outputs": [
        {
          "output_type": "stream",
          "text": [
            "0-10_stock_info.csv  nasdaq_screener.csv  templates",
            "0-2_stock_info.csv   nasdaq_screener.xls  US-Stock-Symbols.csv",
            "0-3_stock_info.csv   nyse_list.csv	  US-Stock-Symbols.xlsx",
            "0-5_stock_info.csv   nyse_list.xls	  yfinance_API_client_end.py",
            "API_Calls.ipynb      README.md",
            "errors.log	     static"
          ],
          "name": "stdout"
        }
      ]
    },
    {
      "cell_type": "markdown",
      "metadata": {
        "id": "BiTqAdc4WLCn"
      },
      "source": [
        "# New Section"
      ]
    }
  ]
}
