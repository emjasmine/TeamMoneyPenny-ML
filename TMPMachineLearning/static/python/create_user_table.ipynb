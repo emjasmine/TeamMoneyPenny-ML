{
 "cells": [
  {
   "cell_type": "code",
   "execution_count": 6,
   "metadata": {},
   "outputs": [],
   "source": [
    "# Bring in all dependencies\n",
    "import pandas as pd\n",
    "import requests\n",
    "import numpy as np\n",
    "import scipy as sp\n",
    "from statistics import mode\n",
    "from babel.numbers import format_number, format_decimal, format_percent, format_currency, decimal\n",
    "from decimal import localcontext, Context, ROUND_UP"
   ]
  },
  {
   "cell_type": "code",
   "execution_count": 4,
   "metadata": {},
   "outputs": [],
   "source": [
    "########## Read in data file ##########\n",
    "path = 'static/resources/clean_data.csv'\n",
    "clean_data_df = pd.read_csv(path,index_col = False)"
   ]
  },
  {
   "cell_type": "code",
   "execution_count": 7,
   "metadata": {},
   "outputs": [],
   "source": [
    "# Get the last (greatest) timepoint for each stock\n",
    "# Get the most common overall volitility score for each stock\n",
    "max_date_df = clean_data_df.groupby(['Symbol']).agg({'Date':'max', 'Stock Volitility Score': mode})\n",
    "\n",
    "# Merge max date df with the original dataframe to get the stock info at the last timepoint\n",
    "merge_df = pd.merge(clean_data_df, max_date_df, on='Symbol')\n",
    "\n",
    "#pull only the max time points from the df for most recent stock data\n",
    "user_table = merge_df.loc[merge_df['Date_x']==merge_df['Date_y']]\n",
    "\n",
    "# Keep only columns to display to user in app\n",
    "user_table = user_table[['Symbol', 'Name', 'Sector', 'Close', 'Dividends', 'Stock Volitility Score_y']]\n",
    "\n",
    "# Rename columns to match user experience\n",
    "user_table = user_table.rename(columns={'Symbol': 'Ticker', 'Name': 'Company', 'Sector': 'Industry', 'Close': 'Price', 'Dividends': 'Dividends', 'Stock Volitility Score_y': 'Risk'})\n",
    "\n",
    "# Add ROI column\n",
    "user_table['ROI'] = user_table['Dividends'] / user_table['Price']\n",
    "\n",
    "# relocate ROI column\n",
    "col_to_move = user_table.pop('ROI')\n",
    "user_table.insert(5, 'ROI', col_to_move)\n",
    "\n",
    "# translate Risk score to high med low text\n",
    "for score in user_table['Risk']:\n",
    "    if score <= 6:\n",
    "        user_table['Risk'] = 'Low Risk'\n",
    "    elif score <= 9:\n",
    "        user_table['Risk'] = 'Moderate Risk'\n",
    "    else:\n",
    "        user_table['Risk'] = 'High Risk'\n",
    "\n",
    "# format price, dividends, ROI\n",
    "for i,row in user_table.iterrows():\n",
    "    user_table['Price'] = format_currency(round(row['Price'],3), 'USD', '¤ #,##0.000', locale='en_US', currency_digits=False, decimal_quantization=False)\n",
    "    user_table['Dividends'] = format_currency(round(row['Dividends'], 4), 'USD', '¤ #,##0.0000', locale='en_US', currency_digits=False, decimal_quantization=False)\n",
    "    user_table['ROI'] = format_percent(round(row['ROI'], 4), locale='en_US', decimal_quantization=False)"
   ]
  },
  {
   "cell_type": "code",
   "execution_count": 8,
   "metadata": {},
   "outputs": [],
   "source": [
    "######### Save user table as csv for flask matching #########\n",
    "user_table.to_csv('static/resources/user_table.csv',index=False)"
   ]
  }
 ],
 "metadata": {
  "kernelspec": {
   "display_name": "Python 3",
   "language": "python",
   "name": "python3"
  },
  "language_info": {
   "codemirror_mode": {
    "name": "ipython",
    "version": 3
   },
   "file_extension": ".py",
   "mimetype": "text/x-python",
   "name": "python",
   "nbconvert_exporter": "python",
   "pygments_lexer": "ipython3",
   "version": "3.8.3"
  }
 },
 "nbformat": 4,
 "nbformat_minor": 4
}
