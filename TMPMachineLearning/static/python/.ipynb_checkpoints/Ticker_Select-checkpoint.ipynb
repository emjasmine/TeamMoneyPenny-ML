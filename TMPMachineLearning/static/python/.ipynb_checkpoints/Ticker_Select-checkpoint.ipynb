{
 "cells": [
  {
   "cell_type": "code",
   "execution_count": 8,
   "metadata": {},
   "outputs": [],
   "source": [
    "# For now, use mock data (MSFT stock)\n",
    "import pandas as pd\n",
    "import yfinance as yf\n",
    "from flask import jsonify"
   ]
  },
  {
   "cell_type": "code",
   "execution_count": 15,
   "metadata": {},
   "outputs": [
    {
     "data": {
      "text/plain": [
       "0     $ 24.490\n",
       "1     $ 24.490\n",
       "14    $ 24.490\n",
       "22    $ 24.490\n",
       "29    $ 24.490\n",
       "32    $ 24.490\n",
       "35    $ 24.490\n",
       "40    $ 24.490\n",
       "42    $ 24.490\n",
       "43    $ 24.490\n",
       "45    $ 24.490\n",
       "48    $ 24.490\n",
       "49    $ 24.490\n",
       "50    $ 24.490\n",
       "51    $ 24.490\n",
       "52    $ 24.490\n",
       "53    $ 24.490\n",
       "54    $ 24.490\n",
       "56    $ 24.490\n",
       "59    $ 24.490\n",
       "61    $ 24.490\n",
       "66    $ 24.490\n",
       "78    $ 24.490\n",
       "84    $ 24.490\n",
       "88    $ 24.490\n",
       "94    $ 24.490\n",
       "Name: Price, dtype: object"
      ]
     },
     "execution_count": 15,
     "metadata": {},
     "output_type": "execute_result"
    }
   ],
   "source": [
    "# Grab stock input from recommender page (for now, use mock data)\n",
    "stock = 'AUS'\n",
    "industry = 'Financial Services'\n",
    "price_range = '500'\n",
    "tolerance = 'Low Risk Tolerance'\n",
    "\n",
    "# Read in Flask_table.csv as pandas dataframe\n",
    "flask_data = pd.read_csv(\"../resources/Flask_table.csv\", dtype=str)\n",
    "flask_data = flask_data.drop(\"Unnamed: 0\", axis=1)\n",
    "\n",
    "select_stock = flask_data.loc[flask_data['Ticker'] == stock]\n",
    "stock_cluster = select_stock['Clusters'].index.values.tolist()\n",
    "\n",
    "# Finds tickers in the same cluster as the selected stock\n",
    "cluster_data = flask_data.loc[flask_data['Clusters'] == stock_cluster[0]]\n",
    "select_industry = industry\n",
    "found_data = cluster_data.loc[cluster_data['Industry'] == select_industry]\n",
    "\n",
    "\n",
    "# price_adjust = []\n",
    "\n",
    "# for i in found_data['Price']:\n",
    "#     select_price = float(i['Price']).replace(\"$ \",\"\")\n",
    "#     price_adjust.append(select_price)\n",
    "\n",
    "\n",
    "# # Finds cluster tickers with a price less than or equal to that of the selected stock\n",
    "# select_price = float(data['price'])\n",
    "# cluster_data = found_data.loc[price_adjust <= select_price]\n",
    "\n",
    "\n",
    "# cluster_data\n",
    "found_data['Price']"
   ]
  },
  {
   "cell_type": "code",
   "execution_count": 25,
   "metadata": {},
   "outputs": [
    {
     "data": {
      "text/plain": [
       "'[\\n    {\\n        \"Ticker\":\"APTS\",\\n        \"Company\":\"Preferred Apartment Communities Inc. Common Stock\",\\n        \"Industry\":\"Real Estate\",\\n        \"Price\":\"$ 24.490\",\\n        \"Dividends\":\"$ 0.0000\",\\n        \"ROI\":\"0%\",\\n        \"Risk\":\"Low Risk\",\\n        \"Clusters\":5\\n    },\\n    {\\n        \"Ticker\":\"CIR\",\\n        \"Company\":\"CIRCOR International Inc. Common Stock\",\\n        \"Industry\":\"Industrials\",\\n        \"Price\":\"$ 24.490\",\\n        \"Dividends\":\"$ 0.0000\",\\n        \"ROI\":\"0%\",\\n        \"Risk\":\"Low Risk\",\\n        \"Clusters\":5\\n    },\\n    {\\n        \"Ticker\":\"NRGX\",\\n        \"Company\":\"PIMCO Energy and Tactical Credit Opportunities Fund Common Shares of Beneficial Interest\",\\n        \"Industry\":\"Undefined\",\\n        \"Price\":\"$ 24.490\",\\n        \"Dividends\":\"$ 0.0000\",\\n        \"ROI\":\"0%\",\\n        \"Risk\":\"Low Risk\",\\n        \"Clusters\":5\\n    },\\n    {\\n        \"Ticker\":\"ENIA\",\\n        \"Company\":\"Enel Americas S.A. American Depositary Shares\",\\n        \"Industry\":\"Utilities\",\\n        \"Price\":\"$ 24.490\",\\n        \"Dividends\":\"$ 0.0000\",\\n        \"ROI\":\"0%\",\\n        \"Risk\":\"Low Risk\",\\n        \"Clusters\":5\\n    },\\n    {\\n        \"Ticker\":\"ZBH\",\\n        \"Company\":\"Zimmer Biomet Holdings Inc. Common Stock\",\\n        \"Industry\":\"Healthcare\",\\n        \"Price\":\"$ 24.490\",\\n        \"Dividends\":\"$ 0.0000\",\\n        \"ROI\":\"0%\",\\n        \"Risk\":\"Low Risk\",\\n        \"Clusters\":5\\n    },\\n    {\\n        \"Ticker\":\"PK\",\\n        \"Company\":\"Park Hotels & Resorts Inc. Common Stock \",\\n        \"Industry\":\"Real Estate\",\\n        \"Price\":\"$ 24.490\",\\n        \"Dividends\":\"$ 0.0000\",\\n        \"ROI\":\"0%\",\\n        \"Risk\":\"Low Risk\",\\n        \"Clusters\":5\\n    },\\n    {\\n        \"Ticker\":\"LXU\",\\n        \"Company\":\"LSB Industries Inc. Common Stock\",\\n        \"Industry\":\"Basic Materials\",\\n        \"Price\":\"$ 24.490\",\\n        \"Dividends\":\"$ 0.0000\",\\n        \"ROI\":\"0%\",\\n        \"Risk\":\"Low Risk\",\\n        \"Clusters\":5\\n    },\\n    {\\n        \"Ticker\":\"CMCM\",\\n        \"Company\":\"Cheetah Mobile Inc. American Depositary Shares each representing 10 Class Ordinary Shares\",\\n        \"Industry\":\"Technology\",\\n        \"Price\":\"$ 24.490\",\\n        \"Dividends\":\"$ 0.0000\",\\n        \"ROI\":\"0%\",\\n        \"Risk\":\"Low Risk\",\\n        \"Clusters\":5\\n    },\\n    {\\n        \"Ticker\":\"FI\",\\n        \"Company\":\"Frank\\'s International N.V. Common Stock\",\\n        \"Industry\":\"Energy\",\\n        \"Price\":\"$ 24.490\",\\n        \"Dividends\":\"$ 0.0000\",\\n        \"ROI\":\"0%\",\\n        \"Risk\":\"Low Risk\",\\n        \"Clusters\":5\\n    },\\n    {\\n        \"Ticker\":\"TARO\",\\n        \"Company\":\"Taro Pharmaceutical Industries Ltd. Ordinary Shares\",\\n        \"Industry\":\"Healthcare\",\\n        \"Price\":\"$ 24.490\",\\n        \"Dividends\":\"$ 0.0000\",\\n        \"ROI\":\"0%\",\\n        \"Risk\":\"Low Risk\",\\n        \"Clusters\":5\\n    }\\n]'"
      ]
     },
     "execution_count": 25,
     "metadata": {},
     "output_type": "execute_result"
    }
   ],
   "source": [
    "cluster = cluster_data.to_json(orient='records',indent=4)\n",
    "\n",
    "cluster"
   ]
  },
  {
   "cell_type": "code",
   "execution_count": null,
   "metadata": {},
   "outputs": [],
   "source": []
  }
 ],
 "metadata": {
  "kernelspec": {
   "display_name": "Python 3",
   "language": "python",
   "name": "python3"
  },
  "language_info": {
   "codemirror_mode": {
    "name": "ipython",
    "version": 3
   },
   "file_extension": ".py",
   "mimetype": "text/x-python",
   "name": "python",
   "nbconvert_exporter": "python",
   "pygments_lexer": "ipython3",
   "version": "3.8.5"
  }
 },
 "nbformat": 4,
 "nbformat_minor": 4
}
