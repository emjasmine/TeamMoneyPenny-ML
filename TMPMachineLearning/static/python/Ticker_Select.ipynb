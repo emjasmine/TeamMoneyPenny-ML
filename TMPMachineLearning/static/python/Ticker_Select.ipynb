{
 "cells": [
  {
   "cell_type": "code",
   "execution_count": 1,
   "metadata": {},
   "outputs": [],
   "source": [
    "# For now, use mock data (MSFT stock)\n",
    "import pandas as pd\n",
    "import yfinance as yf\n",
    "from flask import jsonify"
   ]
  },
  {
   "cell_type": "code",
   "execution_count": 5,
   "metadata": {},
   "outputs": [
    {
     "data": {
      "text/plain": [
       "0     $ 24.490\n",
       "1     $ 24.490\n",
       "2     $ 24.490\n",
       "3     $ 24.490\n",
       "4     $ 24.490\n",
       "        ...   \n",
       "90    $ 24.490\n",
       "91    $ 24.490\n",
       "92    $ 24.490\n",
       "93    $ 24.490\n",
       "94    $ 24.490\n",
       "Name: Price, Length: 95, dtype: object"
      ]
     },
     "execution_count": 5,
     "metadata": {},
     "output_type": "execute_result"
    }
   ],
   "source": [
    "# Grab stock input from recommender page (for now, use mock data)\n",
    "stock = 'AUS'\n",
    "industry = 'Financial Services'\n",
    "price_range = '500'\n",
    "tolerance = 'Low Risk Tolerance'\n",
    "\n",
    "# Read in Flask_table.csv as pandas dataframe\n",
    "flask_data = pd.read_csv(\"../resources/Flask_table.csv\")\n",
    "flask_data = flask_data.drop(\"Unnamed: 0\", axis=1)\n",
    "\n",
    "select_stock = flask_data.loc[flask_data['Ticker'] == stock]\n",
    "stock_cluster = select_stock['Clusters'].index.values.tolist()\n",
    "\n",
    "# Finds tickers in the same cluster as the selected stock\n",
    "cluster_data = flask_data.loc[flask_data['Clusters'] == stock_cluster[0]]\n",
    "select_industry = industry\n",
    "found_data = cluster_data.loc[cluster_data['Industry'] == select_industry]\n",
    "\n",
    "\n",
    "# price_adjust = []\n",
    "\n",
    "# for i in found_data['Price']:\n",
    "#     select_price = float(i['Price']).replace(\"$ \",\"\")\n",
    "#     price_adjust.append(select_price)\n",
    "\n",
    "\n",
    "# # Finds cluster tickers with a price less than or equal to that of the selected stock\n",
    "# select_price = float(data['price'])\n",
    "# cluster_data = found_data.loc[price_adjust <= select_price]\n",
    "\n",
    "\n",
    "# cluster_data\n",
    "flask_data['Price'] = flask_data['Price'].astype('str')\n",
    "flask_data['Price']"
   ]
  },
  {
   "cell_type": "code",
   "execution_count": null,
   "metadata": {},
   "outputs": [],
   "source": [
    "cluster = cluster_data.to_json(orient='records',indent=4)\n",
    "\n",
    "cluster"
   ]
  },
  {
   "cell_type": "code",
   "execution_count": null,
   "metadata": {},
   "outputs": [],
   "source": []
  }
 ],
 "metadata": {
  "kernelspec": {
   "display_name": "Python 3",
   "language": "python",
   "name": "python3"
  },
  "language_info": {
   "codemirror_mode": {
    "name": "ipython",
    "version": 3
   },
   "file_extension": ".py",
   "mimetype": "text/x-python",
   "name": "python",
   "nbconvert_exporter": "python",
   "pygments_lexer": "ipython3",
   "version": "3.8.5"
  }
 },
 "nbformat": 4,
 "nbformat_minor": 4
}
