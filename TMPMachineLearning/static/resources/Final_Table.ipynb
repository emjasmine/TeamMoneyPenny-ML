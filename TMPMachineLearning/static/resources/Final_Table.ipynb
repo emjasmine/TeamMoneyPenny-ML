{
 "cells": [
  {
   "cell_type": "code",
   "execution_count": 1,
   "metadata": {},
   "outputs": [],
   "source": [
    "# Bring in all dependencies\n",
    "import pandas as pd\n",
    "import requests\n",
    "import numpy as np\n",
    "import scipy as sp\n",
    "from statistics import mode\n",
    "from babel.numbers import format_number, format_decimal, format_percent, format_currency, decimal\n",
    "from decimal import localcontext, Context, ROUND_UP"
   ]
  },
  {
   "cell_type": "code",
   "execution_count": 10,
   "metadata": {},
   "outputs": [],
   "source": [
    "########## Read in BERT clusters & user table files ##########\n",
    "BERT_path = 'static/resources/BERT_clusters.csv'\n",
    "BERT = pd.read_csv(BERT_path,index_col = False)\n",
    "\n",
    "USER_path = 'static/resources/user_table.csv'\n",
    "USER = pd.read_csv(USER_path,index_col = False)"
   ]
  },
  {
   "cell_type": "code",
   "execution_count": 40,
   "metadata": {},
   "outputs": [],
   "source": [
    "########## Combine dfs to align clusters to user info ##########\n",
    "Final_table = USER.merge(BERT, left_on='Ticker', right_on='Symbol')\n",
    "\n",
    "########## Keep only the columns needed for FLASK ##########\n",
    "Final_table = Final_table[['Ticker','Company', 'Industry','Price','Dividends','ROI','Risk','Clusters']]\n",
    "Final_table"
   ]
  },
  {
   "cell_type": "code",
   "execution_count": 41,
   "metadata": {},
   "outputs": [],
   "source": [
    "########## send to CSV for FLASK routes ##########\n",
    "Final_table.to_csv('static/resources/Flask_table.csv')"
   ]
  }
 ],
 "metadata": {
  "kernelspec": {
   "display_name": "Python 3",
   "language": "python",
   "name": "python3"
  },
  "language_info": {
   "codemirror_mode": {
    "name": "ipython",
    "version": 3
   },
   "file_extension": ".py",
   "mimetype": "text/x-python",
   "name": "python",
   "nbconvert_exporter": "python",
   "pygments_lexer": "ipython3",
   "version": "3.8.5"
  }
 },
 "nbformat": 4,
 "nbformat_minor": 4
}
