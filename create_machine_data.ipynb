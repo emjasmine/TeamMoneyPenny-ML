{
 "cells": [
  {
   "cell_type": "code",
   "execution_count": 1,
   "metadata": {},
   "outputs": [],
   "source": [
    "# Bring in all dependencies\n",
    "import pandas as pd\n",
    "import requests\n",
    "import numpy as np\n",
    "from statistics import mode"
   ]
  },
  {
   "cell_type": "code",
   "execution_count": 2,
   "metadata": {},
   "outputs": [],
   "source": [
    "########## Read in data file ##########\n",
    "path = 'static/resources/clean_data.csv'\n",
    "clean_data_df = pd.read_csv(path,index_col = False)\n",
    "\n",
    "# make copy of clean data df\n",
    "model_data = clean_data_df\n",
    "\n",
    "######### Pre-Process Data for Model #########\n",
    "\n",
    "# define agg methods for columns\n",
    "agg_dict = {\n",
    "    'Sector': 'max',\n",
    "    'Price Change': np.mean,\n",
    "    'Dividend Change': np.mean,\n",
    "    'Volume Change': np.mean,\n",
    "    'Price Volitility': mode,\n",
    "    'Dividend Volitility': mode,\n",
    "    'Volume Volitility': mode,\n",
    "    'Stock Volitility Score': mode\n",
    "}\n",
    "\n",
    "# Summarize tkr data into one row e/a with agg using dict\n",
    "model_data = model_data.groupby(['Symbol']).agg(agg_dict)\n",
    "\n",
    "# reset the index to retain the ticker\n",
    "# model_data.reset_index()\n",
    "\n",
    "# Convert sector into dummy columns\n",
    "model_data = pd.get_dummies(model_data, prefix=['Sector'])\n",
    "\n",
    "######### Save model data table as csv for BERT consumption #########\n",
    "model_data.to_csv('static/resources/model_data.csv')"
   ]
  }
 ],
 "metadata": {
  "kernelspec": {
   "display_name": "Python 3",
   "language": "python",
   "name": "python3"
  },
  "language_info": {
   "codemirror_mode": {
    "name": "ipython",
    "version": 3
   },
   "file_extension": ".py",
   "mimetype": "text/x-python",
   "name": "python",
   "nbconvert_exporter": "python",
   "pygments_lexer": "ipython3",
   "version": "3.8.5"
  }
 },
 "nbformat": 4,
 "nbformat_minor": 4
}
